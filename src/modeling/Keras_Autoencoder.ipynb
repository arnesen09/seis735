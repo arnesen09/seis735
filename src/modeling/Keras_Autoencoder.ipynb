{
 "cells": [
  {
   "cell_type": "markdown",
   "metadata": {},
   "source": [
    "# Dimensionality Reduction With Keras Autoencoder"
   ]
  },
  {
   "cell_type": "markdown",
   "metadata": {},
   "source": [
    "First import the required packages"
   ]
  },
  {
   "cell_type": "code",
   "execution_count": 1,
   "metadata": {
    "collapsed": false
   },
   "outputs": [
    {
     "name": "stderr",
     "output_type": "stream",
     "text": [
      "Using TensorFlow backend.\n"
     ]
    }
   ],
   "source": [
    "import pandas as pd\n",
    "from keras.models import Model\n",
    "from keras.layers import Input, Dense, Dropout\n",
    "import os"
   ]
  },
  {
   "cell_type": "markdown",
   "metadata": {},
   "source": [
    "Read the compressed dataset from file."
   ]
  },
  {
   "cell_type": "code",
   "execution_count": 2,
   "metadata": {
    "collapsed": false
   },
   "outputs": [
    {
     "name": "stdout",
     "output_type": "stream",
     "text": [
      "(2988, 23903)\n"
     ]
    }
   ],
   "source": [
    "# Read the training data\n",
    "df = pd.read_csv('/home/ec2-user/Notebooks/seis735/data/train_freq.gz', compression='gzip', encoding='ISO-8859-1')\n",
    "\n",
    "print(df.shape)"
   ]
  },
  {
   "cell_type": "markdown",
   "metadata": {},
   "source": [
    "Conver the pandas dataframe to a numpy matrix. The matrix is what we will feed into the autoencoder."
   ]
  },
  {
   "cell_type": "code",
   "execution_count": 3,
   "metadata": {
    "collapsed": true
   },
   "outputs": [],
   "source": [
    "df.drop(['ID','Gene','Variation','Class'], inplace=True, axis=1)\n",
    "\n",
    "# Convert predictors to matrix format\n",
    "x = df.as_matrix()\n",
    "\n",
    "# Cleanup\n",
    "del df"
   ]
  },
  {
   "cell_type": "markdown",
   "metadata": {},
   "source": [
    "Build and train the autoencoder."
   ]
  },
  {
   "cell_type": "code",
   "execution_count": 4,
   "metadata": {
    "collapsed": false
   },
   "outputs": [
    {
     "name": "stdout",
     "output_type": "stream",
     "text": [
      "Epoch 1/20\n",
      "2988/2988 [==============================] - 44s 15ms/step - loss: 0.0055\n",
      "Epoch 2/20\n",
      "2988/2988 [==============================] - 44s 15ms/step - loss: 3.4781e-07\n",
      "Epoch 3/20\n",
      "2988/2988 [==============================] - 43s 15ms/step - loss: 3.4781e-07\n",
      "Epoch 4/20\n",
      "2988/2988 [==============================] - 44s 15ms/step - loss: 3.4781e-07\n",
      "Epoch 5/20\n",
      "2988/2988 [==============================] - 45s 15ms/step - loss: 3.4781e-07\n",
      "Epoch 6/20\n",
      "2988/2988 [==============================] - 44s 15ms/step - loss: 3.4781e-07\n",
      "Epoch 7/20\n",
      "2988/2988 [==============================] - 44s 15ms/step - loss: 3.4781e-07\n",
      "Epoch 8/20\n",
      "2988/2988 [==============================] - 44s 15ms/step - loss: 3.4781e-07\n",
      "Epoch 9/20\n",
      "2988/2988 [==============================] - 44s 15ms/step - loss: 3.4781e-07\n",
      "Epoch 10/20\n",
      "2988/2988 [==============================] - 45s 15ms/step - loss: 3.4781e-07\n",
      "Epoch 11/20\n",
      "2988/2988 [==============================] - 49s 17ms/step - loss: 3.4781e-07\n",
      "Epoch 12/20\n",
      "2988/2988 [==============================] - 50s 17ms/step - loss: 3.4781e-07\n",
      "Epoch 13/20\n",
      "2988/2988 [==============================] - 50s 17ms/step - loss: 3.4781e-07\n",
      "Epoch 14/20\n",
      "2988/2988 [==============================] - 50s 17ms/step - loss: 3.4781e-07\n",
      "Epoch 15/20\n",
      "2988/2988 [==============================] - 50s 17ms/step - loss: 3.4781e-07\n",
      "Epoch 16/20\n",
      "2988/2988 [==============================] - 49s 17ms/step - loss: 3.4781e-07\n",
      "Epoch 17/20\n",
      "2988/2988 [==============================] - 50s 17ms/step - loss: 3.4781e-07\n",
      "Epoch 18/20\n",
      "2988/2988 [==============================] - 49s 17ms/step - loss: 3.4781e-07\n",
      "Epoch 19/20\n",
      "2988/2988 [==============================] - 50s 17ms/step - loss: 3.4781e-07\n",
      "Epoch 20/20\n",
      "2988/2988 [==============================] - 49s 16ms/step - loss: 3.4781e-07\n"
     ]
    },
    {
     "data": {
      "text/plain": [
       "<keras.callbacks.History at 0x7fc78e079a10>"
      ]
     },
     "execution_count": 4,
     "metadata": {},
     "output_type": "execute_result"
    }
   ],
   "source": [
    "# This is the shape of our input\n",
    "inputs = Input(shape=(23899,))\n",
    "\n",
    "# These are the model layers\n",
    "encoded = Dropout(rate=0.25)(inputs)\n",
    "encoded = Dense(2500, activation='relu')(encoded)\n",
    "encoded = Dropout(rate=0.1)(encoded)\n",
    "encoded = Dense(2000, activation='relu')(encoded)\n",
    "encoded = Dropout(rate=0.1)(encoded)\n",
    "encoded = Dense(1500, activation='relu')(encoded)\n",
    "encoded = Dropout(rate=0.1)(encoded)\n",
    "encoded = Dense(1000, activation='relu')(encoded)\n",
    "decoded = Dense(1500, activation='sigmoid')(encoded)\n",
    "decoded = Dense(2000, activation='sigmoid')(decoded)\n",
    "decoded = Dense(2500, activation='sigmoid')(decoded)\n",
    "decoded = Dense(23899, activation='sigmoid')(decoded)\n",
    "\n",
    "# this model maps an input to its reconstruction\n",
    "autoencoder = Model(inputs, decoded)\n",
    "\n",
    "# this model maps an input to its encoded representation\n",
    "encoder = Model(inputs, encoded)\n",
    "\n",
    "# Compile the autoencoder\n",
    "autoencoder.compile(optimizer='adam', loss='mean_squared_error')\n",
    "\n",
    "# Train the model\n",
    "autoencoder.fit(x, x, epochs=20, batch_size=50)"
   ]
  },
  {
   "cell_type": "markdown",
   "metadata": {},
   "source": [
    "Save the model object so we can use it later"
   ]
  },
  {
   "cell_type": "code",
   "execution_count": 12,
   "metadata": {
    "collapsed": false
   },
   "outputs": [
    {
     "ename": "ImportError",
     "evalue": "`save_model` requires h5py.",
     "output_type": "error",
     "traceback": [
      "\u001b[0;31m---------------------------------------------------------------------------\u001b[0m",
      "\u001b[0;31mImportError\u001b[0m                               Traceback (most recent call last)",
      "\u001b[0;32m<ipython-input-12-e8c28814c6df>\u001b[0m in \u001b[0;36m<module>\u001b[0;34m()\u001b[0m\n\u001b[1;32m      1\u001b[0m \u001b[0;32mimport\u001b[0m \u001b[0mh5py\u001b[0m\u001b[0;34m\u001b[0m\u001b[0m\n\u001b[1;32m      2\u001b[0m \u001b[0;34m\u001b[0m\u001b[0m\n\u001b[0;32m----> 3\u001b[0;31m \u001b[0mencoder\u001b[0m\u001b[0;34m.\u001b[0m\u001b[0msave\u001b[0m\u001b[0;34m(\u001b[0m\u001b[0;34m'/home/ec2-user/Notebooks/seis735/models/encoder_v1.h5'\u001b[0m\u001b[0;34m)\u001b[0m\u001b[0;34m\u001b[0m\u001b[0m\n\u001b[0m",
      "\u001b[0;32m/home/ec2-user/.local/lib/python2.7/site-packages/keras/engine/topology.pyc\u001b[0m in \u001b[0;36msave\u001b[0;34m(self, filepath, overwrite, include_optimizer)\u001b[0m\n\u001b[1;32m   2554\u001b[0m         \"\"\"\n\u001b[1;32m   2555\u001b[0m         \u001b[0;32mfrom\u001b[0m \u001b[0;34m.\u001b[0m\u001b[0;34m.\u001b[0m\u001b[0mmodels\u001b[0m \u001b[0;32mimport\u001b[0m \u001b[0msave_model\u001b[0m\u001b[0;34m\u001b[0m\u001b[0m\n\u001b[0;32m-> 2556\u001b[0;31m         \u001b[0msave_model\u001b[0m\u001b[0;34m(\u001b[0m\u001b[0mself\u001b[0m\u001b[0;34m,\u001b[0m \u001b[0mfilepath\u001b[0m\u001b[0;34m,\u001b[0m \u001b[0moverwrite\u001b[0m\u001b[0;34m,\u001b[0m \u001b[0minclude_optimizer\u001b[0m\u001b[0;34m)\u001b[0m\u001b[0;34m\u001b[0m\u001b[0m\n\u001b[0m\u001b[1;32m   2557\u001b[0m \u001b[0;34m\u001b[0m\u001b[0m\n\u001b[1;32m   2558\u001b[0m     \u001b[0;32mdef\u001b[0m \u001b[0msave_weights\u001b[0m\u001b[0;34m(\u001b[0m\u001b[0mself\u001b[0m\u001b[0;34m,\u001b[0m \u001b[0mfilepath\u001b[0m\u001b[0;34m,\u001b[0m \u001b[0moverwrite\u001b[0m\u001b[0;34m=\u001b[0m\u001b[0mTrue\u001b[0m\u001b[0;34m)\u001b[0m\u001b[0;34m:\u001b[0m\u001b[0;34m\u001b[0m\u001b[0m\n",
      "\u001b[0;32m/home/ec2-user/.local/lib/python2.7/site-packages/keras/models.pyc\u001b[0m in \u001b[0;36msave_model\u001b[0;34m(model, filepath, overwrite, include_optimizer)\u001b[0m\n\u001b[1;32m     55\u001b[0m \u001b[0;34m\u001b[0m\u001b[0m\n\u001b[1;32m     56\u001b[0m     \u001b[0;32mif\u001b[0m \u001b[0mh5py\u001b[0m \u001b[0;32mis\u001b[0m \u001b[0mNone\u001b[0m\u001b[0;34m:\u001b[0m\u001b[0;34m\u001b[0m\u001b[0m\n\u001b[0;32m---> 57\u001b[0;31m         \u001b[0;32mraise\u001b[0m \u001b[0mImportError\u001b[0m\u001b[0;34m(\u001b[0m\u001b[0;34m'`save_model` requires h5py.'\u001b[0m\u001b[0;34m)\u001b[0m\u001b[0;34m\u001b[0m\u001b[0m\n\u001b[0m\u001b[1;32m     58\u001b[0m \u001b[0;34m\u001b[0m\u001b[0m\n\u001b[1;32m     59\u001b[0m     \u001b[0;32mdef\u001b[0m \u001b[0mget_json_type\u001b[0m\u001b[0;34m(\u001b[0m\u001b[0mobj\u001b[0m\u001b[0;34m)\u001b[0m\u001b[0;34m:\u001b[0m\u001b[0;34m\u001b[0m\u001b[0m\n",
      "\u001b[0;31mImportError\u001b[0m: `save_model` requires h5py."
     ]
    }
   ],
   "source": [
    "import h5py\n",
    "\n",
    "encoder.save('/home/ec2-user/Notebooks/seis735/models/encoder_v1.h5')"
   ]
  },
  {
   "cell_type": "code",
   "execution_count": null,
   "metadata": {
    "collapsed": true
   },
   "outputs": [],
   "source": []
  }
 ],
 "metadata": {
  "kernelspec": {
   "display_name": "Python 3",
   "language": "python",
   "name": "python3"
  },
  "language_info": {
   "codemirror_mode": {
    "name": "ipython",
    "version": 3
   },
   "file_extension": ".py",
   "mimetype": "text/x-python",
   "name": "python",
   "nbconvert_exporter": "python",
   "pygments_lexer": "ipython3",
   "version": "3.6.0"
  }
 },
 "nbformat": 4,
 "nbformat_minor": 2
}
